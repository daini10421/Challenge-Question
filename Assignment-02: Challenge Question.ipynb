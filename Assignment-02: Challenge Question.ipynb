{
  "nbformat": 4,
  "nbformat_minor": 0,
  "metadata": {
    "colab": {
      "provenance": [],
      "authorship_tag": "ABX9TyMWbskVByIprVSKe8k/7kk1",
      "include_colab_link": true
    },
    "kernelspec": {
      "name": "python3",
      "display_name": "Python 3"
    },
    "language_info": {
      "name": "python"
    }
  },
  "cells": [
    {
      "cell_type": "markdown",
      "metadata": {
        "id": "view-in-github",
        "colab_type": "text"
      },
      "source": [
        "<a href=\"https://colab.research.google.com/github/daini10421/Challenge-Question/blob/main/Assignment-02%3A%20Challenge%20Question.ipynb\" target=\"_parent\"><img src=\"https://colab.research.google.com/assets/colab-badge.svg\" alt=\"Open In Colab\"/></a>"
      ]
    },
    {
      "cell_type": "code",
      "execution_count": 8,
      "metadata": {
        "colab": {
          "base_uri": "https://localhost:8080/"
        },
        "id": "BbW932hZ_V9L",
        "outputId": "593005b2-855e-4d67-abdc-cc6dd598e3a7"
      },
      "outputs": [
        {
          "output_type": "stream",
          "name": "stdout",
          "text": [
            "The original list : ['Ram', 1, 'Shyam', 2, 'Aman', 3]\n",
            "List after mixed sorting : [1, 2, 3, 'Aman', 'Ram', 'Shyam']\n"
          ]
        }
      ],
      "source": [
        "def mixs(num):\n",
        "    try:\n",
        "        ele = int(num)\n",
        "        return (0, ele, '')\n",
        "    except ValueError:\n",
        "        return (1, num, '')\n",
        "\n",
        "\n",
        "\n",
        "L = [\"Ram\", 1, \"Shyam\", 2, \"Aman\", 3]\n",
        "\n",
        "\n",
        "print(\"The original list : \" + str(L))\n",
        "\n",
        "\n",
        "L.sort(key = mixs)\n",
        "\n",
        "print(\"List after mixed sorting : \" + str(L))\n",
        "\n",
        "\n",
        "\n",
        "\n",
        "\n",
        "\n"
      ]
    }
  ]
}